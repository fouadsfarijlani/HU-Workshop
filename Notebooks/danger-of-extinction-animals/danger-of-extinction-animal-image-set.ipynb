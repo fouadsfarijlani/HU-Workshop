{
 "cells": [
  {
   "cell_type": "code",
   "execution_count": null,
   "metadata": {
    "_cell_guid": "b1076dfc-b9ad-4769-8c92-a6c4dae69d19",
    "_uuid": "8f2839f25d086af736a60e9eeb907d3b93b6e0e5"
   },
   "outputs": [],
   "source": [
    "# This Python 3 environment comes with many helpful analytics libraries installed\n",
    "# It is defined by the kaggle/python Docker image: https://github.com/kaggle/docker-python\n",
    "# For example, here's several helpful packages to load\n",
    "\n",
    "import numpy as np # linear algebra\n",
    "import pandas as pd # data processing, CSV file I/O (e.g. pd.read_csv)\n",
    "\n",
    "# Input data files are available in the read-only \"../input/\" directory\n",
    "# For example, running this (by clicking run or pressing Shift+Enter) will list all files under the input directory\n",
    "\n",
    "import os\n",
    "for dirname, _, filenames in os.walk('/kaggle/input'):\n",
    "    for filename in filenames:\n",
    "        print(os.path.join(dirname, filename))\n",
    "\n",
    "# You can write up to 20GB to the current directory (/kaggle/working/) that gets preserved as output when you create a version using \"Save & Run All\" \n",
    "# You can also write temporary files to /kaggle/temp/, but they won't be saved outside of the current session"
   ]
  },
  {
   "cell_type": "code",
   "execution_count": 2,
   "metadata": {
    "execution": {
     "iopub.execute_input": "2022-03-03T19:21:08.524693Z",
     "iopub.status.busy": "2022-03-03T19:21:08.524048Z",
     "iopub.status.idle": "2022-03-03T19:21:08.530820Z",
     "shell.execute_reply": "2022-03-03T19:21:08.529961Z",
     "shell.execute_reply.started": "2022-03-03T19:21:08.524651Z"
    }
   },
   "outputs": [],
   "source": [
    "import numpy as np\n",
    "from sklearn.model_selection import train_test_split\n",
    "from tensorflow.keras.preprocessing.image import load_img, ImageDataGenerator, img_to_array, array_to_img\n",
    "from tensorflow.keras.preprocessing import image_dataset_from_directory\n",
    "from tensorflow.keras.models import Sequential, Model\n",
    "from tensorflow.keras.layers import Flatten, GlobalAveragePooling2D, Dense\n",
    "from tensorflow.keras.callbacks import EarlyStopping, ModelCheckpoint, ReduceLROnPlateau, LearningRateScheduler\n",
    "from tensorflow.keras.optimizers import SGD, Adam, Adadelta\n",
    "import tensorflow as tf\n",
    "import matplotlib.pyplot as plt\n",
    "import os\n",
    "import pickle"
   ]
  },
  {
   "cell_type": "code",
   "execution_count": 3,
   "metadata": {
    "execution": {
     "iopub.execute_input": "2022-03-03T19:21:12.021736Z",
     "iopub.status.busy": "2022-03-03T19:21:12.021050Z",
     "iopub.status.idle": "2022-03-03T19:21:12.039765Z",
     "shell.execute_reply": "2022-03-03T19:21:12.039117Z",
     "shell.execute_reply.started": "2022-03-03T19:21:12.021700Z"
    }
   },
   "outputs": [],
   "source": [
    "datapath = \"../input/danger-of-extinction-animal-image-set/Danger Of Extinction\"\n",
    "labels = {}\n",
    "enum = 0\n",
    "for item in sorted(os.listdir(datapath)):\n",
    "    labels[enum] = item\n",
    "    enum+=1\n",
    "labels"
   ]
  },
  {
   "cell_type": "code",
   "execution_count": 4,
   "metadata": {
    "execution": {
     "iopub.execute_input": "2022-03-03T19:21:16.907128Z",
     "iopub.status.busy": "2022-03-03T19:21:16.906875Z",
     "iopub.status.idle": "2022-03-03T19:21:18.030753Z",
     "shell.execute_reply": "2022-03-03T19:21:18.030090Z",
     "shell.execute_reply.started": "2022-03-03T19:21:16.907098Z"
    }
   },
   "outputs": [],
   "source": [
    "DataGen = ImageDataGenerator(\n",
    "    rescale = 1./255,\n",
    "    validation_split = 0.1\n",
    ")\n",
    "train_datagen = DataGen.flow_from_directory(\n",
    "    datapath,\n",
    "    batch_size = 32,\n",
    "    target_size = (299,299),\n",
    "    class_mode = \"categorical\",\n",
    "    subset = \"training\")\n",
    "validation_datagen = DataGen.flow_from_directory(\n",
    "    datapath,\n",
    "    batch_size = 32,\n",
    "    target_size = (299,299),\n",
    "    class_mode = \"categorical\",\n",
    "    subset = \"validation\")"
   ]
  },
  {
   "cell_type": "code",
   "execution_count": 5,
   "metadata": {
    "execution": {
     "iopub.execute_input": "2022-03-03T19:21:20.238323Z",
     "iopub.status.busy": "2022-03-03T19:21:20.237760Z",
     "iopub.status.idle": "2022-03-03T19:21:20.244599Z",
     "shell.execute_reply": "2022-03-03T19:21:20.243815Z",
     "shell.execute_reply.started": "2022-03-03T19:21:20.238283Z"
    }
   },
   "outputs": [],
   "source": [
    "print(train_datagen.class_indices)\n",
    "print(validation_datagen.class_indices)"
   ]
  },
  {
   "cell_type": "code",
   "execution_count": 6,
   "metadata": {
    "execution": {
     "iopub.execute_input": "2022-03-03T19:21:22.781696Z",
     "iopub.status.busy": "2022-03-03T19:21:22.781065Z",
     "iopub.status.idle": "2022-03-03T19:21:31.640309Z",
     "shell.execute_reply": "2022-03-03T19:21:31.639468Z",
     "shell.execute_reply.started": "2022-03-03T19:21:22.781655Z"
    }
   },
   "outputs": [],
   "source": [
    "from tensorflow.keras.applications import InceptionResNetV2\n",
    "\n",
    "inceptionresnet = InceptionResNetV2(include_top=False,\n",
    "    weights=\"imagenet\",\n",
    "    input_shape=(299,299,3) \n",
    ")"
   ]
  },
  {
   "cell_type": "code",
   "execution_count": 7,
   "metadata": {
    "execution": {
     "iopub.execute_input": "2022-03-03T19:22:01.411085Z",
     "iopub.status.busy": "2022-03-03T19:22:01.410826Z",
     "iopub.status.idle": "2022-03-03T19:22:01.495545Z",
     "shell.execute_reply": "2022-03-03T19:22:01.494875Z",
     "shell.execute_reply.started": "2022-03-03T19:22:01.411055Z"
    }
   },
   "outputs": [],
   "source": [
    "for layer in inceptionresnet.layers:\n",
    "    layer.trainable = False\n",
    "base_output = GlobalAveragePooling2D()(inceptionresnet.output)\n",
    "predictions = Dense(11, activation = \"softmax\", name = \"predictions\")(base_output)\n",
    "my_inceptionresnet_model = Model(inputs = inceptionresnet.input, outputs = predictions)"
   ]
  },
  {
   "cell_type": "code",
   "execution_count": 8,
   "metadata": {
    "execution": {
     "iopub.execute_input": "2022-03-03T19:22:05.476558Z",
     "iopub.status.busy": "2022-03-03T19:22:05.475873Z",
     "iopub.status.idle": "2022-03-03T19:32:51.480624Z",
     "shell.execute_reply": "2022-03-03T19:32:51.479819Z",
     "shell.execute_reply.started": "2022-03-03T19:22:05.476519Z"
    }
   },
   "outputs": [],
   "source": [
    "early_stopping = EarlyStopping(monitor = \"val_loss\", patience=5)\n",
    "model_save = ModelCheckpoint(\"inceptionresnet_model.h5\", save_best_only=True, verbose=1)\n",
    "\n",
    "my_inceptionresnet_model.compile(optimizer=\"Adam\", loss=\"categorical_crossentropy\", metrics=[\"accuracy\"])\n",
    "history_inceptionresnet = my_inceptionresnet_model.fit(train_datagen, validation_data=validation_datagen, epochs=50, \n",
    "             steps_per_epoch = train_datagen.samples//32,\n",
    "             callbacks=[early_stopping, model_save])"
   ]
  },
  {
   "cell_type": "code",
   "execution_count": 9,
   "metadata": {
    "execution": {
     "iopub.execute_input": "2022-03-03T19:34:34.611221Z",
     "iopub.status.busy": "2022-03-03T19:34:34.610426Z",
     "iopub.status.idle": "2022-03-03T19:34:34.615416Z",
     "shell.execute_reply": "2022-03-03T19:34:34.614567Z",
     "shell.execute_reply.started": "2022-03-03T19:34:34.611179Z"
    }
   },
   "outputs": [],
   "source": [
    "with open('./trainHistoryInceptionResNet', 'wb') as file_pi:\n",
    "    pickle.dump(history_inceptionresnet.history, file_pi)"
   ]
  },
  {
   "cell_type": "code",
   "execution_count": null,
   "metadata": {},
   "outputs": [],
   "source": []
  }
 ],
 "metadata": {
  "kernelspec": {
   "display_name": "Python 3",
   "language": "python",
   "name": "python3"
  },
  "language_info": {
   "codemirror_mode": {
    "name": "ipython",
    "version": 3
   },
   "file_extension": ".py",
   "mimetype": "text/x-python",
   "name": "python",
   "nbconvert_exporter": "python",
   "pygments_lexer": "ipython3",
   "version": "3.8.3"
  }
 },
 "nbformat": 4,
 "nbformat_minor": 4
}
