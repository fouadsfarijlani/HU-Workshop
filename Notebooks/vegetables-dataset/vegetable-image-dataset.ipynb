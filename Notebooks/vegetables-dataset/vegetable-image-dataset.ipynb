{
 "cells": [
  {
   "cell_type": "code",
   "execution_count": null,
   "metadata": {
    "_cell_guid": "b1076dfc-b9ad-4769-8c92-a6c4dae69d19",
    "_uuid": "8f2839f25d086af736a60e9eeb907d3b93b6e0e5"
   },
   "outputs": [],
   "source": [
    "# This Python 3 environment comes with many helpful analytics libraries installed\n",
    "# It is defined by the kaggle/python Docker image: https://github.com/kaggle/docker-python\n",
    "# For example, here's several helpful packages to load\n",
    "\n",
    "import numpy as np # linear algebra\n",
    "import pandas as pd # data processing, CSV file I/O (e.g. pd.read_csv)\n",
    "\n",
    "# Input data files are available in the read-only \"../input/\" directory\n",
    "# For example, running this (by clicking run or pressing Shift+Enter) will list all files under the input directory\n",
    "\n",
    "import os\n",
    "for dirname, _, filenames in os.walk('/kaggle/input'):\n",
    "    for filename in filenames:\n",
    "        print(os.path.join(dirname, filename))\n",
    "\n",
    "# You can write up to 20GB to the current directory (/kaggle/working/) that gets preserved as output when you create a version using \"Save & Run All\" \n",
    "# You can also write temporary files to /kaggle/temp/, but they won't be saved outside of the current session"
   ]
  },
  {
   "cell_type": "code",
   "execution_count": 22,
   "metadata": {
    "execution": {
     "iopub.execute_input": "2022-03-03T20:19:35.247629Z",
     "iopub.status.busy": "2022-03-03T20:19:35.247385Z",
     "iopub.status.idle": "2022-03-03T20:19:35.253996Z",
     "shell.execute_reply": "2022-03-03T20:19:35.253271Z",
     "shell.execute_reply.started": "2022-03-03T20:19:35.247602Z"
    }
   },
   "outputs": [],
   "source": [
    "import numpy as np\n",
    "from sklearn.model_selection import train_test_split\n",
    "from tensorflow.keras.preprocessing.image import load_img, ImageDataGenerator, img_to_array, array_to_img\n",
    "from tensorflow.keras.preprocessing import image_dataset_from_directory\n",
    "from tensorflow.keras.models import Sequential, Model\n",
    "from tensorflow.keras.layers import Flatten, GlobalAveragePooling2D, Dense\n",
    "from tensorflow.keras.callbacks import EarlyStopping, ModelCheckpoint, ReduceLROnPlateau, LearningRateScheduler\n",
    "from tensorflow.keras.optimizers import SGD, Adam, Adadelta\n",
    "import tensorflow as tf\n",
    "import matplotlib.pyplot as plt\n",
    "import os\n",
    "import pickle"
   ]
  },
  {
   "cell_type": "code",
   "execution_count": 23,
   "metadata": {
    "execution": {
     "iopub.execute_input": "2022-03-03T20:19:38.098123Z",
     "iopub.status.busy": "2022-03-03T20:19:38.097583Z",
     "iopub.status.idle": "2022-03-03T20:19:38.107178Z",
     "shell.execute_reply": "2022-03-03T20:19:38.106317Z",
     "shell.execute_reply.started": "2022-03-03T20:19:38.098085Z"
    }
   },
   "outputs": [],
   "source": [
    "train_datapath = \"../input/vegetable-image-dataset/Vegetable Images/train\"\n",
    "validation_datapath =  \"../input/vegetable-image-dataset/Vegetable Images/validation\"\n",
    "test_datapath = \"../input/vegetable-image-dataset/Vegetable Images/test\"\n",
    "labels = {}\n",
    "enum = 0\n",
    "for item in sorted(os.listdir(train_datapath)):\n",
    "    labels[enum] = item\n",
    "    enum+=1\n",
    "labels"
   ]
  },
  {
   "cell_type": "code",
   "execution_count": 24,
   "metadata": {
    "execution": {
     "iopub.execute_input": "2022-03-03T20:19:45.312193Z",
     "iopub.status.busy": "2022-03-03T20:19:45.311696Z",
     "iopub.status.idle": "2022-03-03T20:19:46.383414Z",
     "shell.execute_reply": "2022-03-03T20:19:46.382683Z",
     "shell.execute_reply.started": "2022-03-03T20:19:45.312155Z"
    }
   },
   "outputs": [],
   "source": [
    "DataGen = ImageDataGenerator(\n",
    "    rescale = 1./255\n",
    ")\n",
    "train_datagen = DataGen.flow_from_directory(\n",
    "    train_datapath,\n",
    "    batch_size = 32,\n",
    "    class_mode = \"categorical\")\n",
    "validation_datagen = DataGen.flow_from_directory(\n",
    "    validation_datapath,\n",
    "    batch_size = 32,\n",
    "    class_mode = \"categorical\"\n",
    ")\n"
   ]
  },
  {
   "cell_type": "code",
   "execution_count": 25,
   "metadata": {
    "execution": {
     "iopub.execute_input": "2022-03-03T20:19:48.581412Z",
     "iopub.status.busy": "2022-03-03T20:19:48.581155Z",
     "iopub.status.idle": "2022-03-03T20:19:48.586461Z",
     "shell.execute_reply": "2022-03-03T20:19:48.585444Z",
     "shell.execute_reply.started": "2022-03-03T20:19:48.581381Z"
    }
   },
   "outputs": [],
   "source": [
    "print(train_datagen.class_indices)\n",
    "print(validation_datagen.class_indices)"
   ]
  },
  {
   "cell_type": "code",
   "execution_count": 26,
   "metadata": {
    "execution": {
     "iopub.execute_input": "2022-03-03T20:19:51.317053Z",
     "iopub.status.busy": "2022-03-03T20:19:51.316254Z",
     "iopub.status.idle": "2022-03-03T20:19:51.322568Z",
     "shell.execute_reply": "2022-03-03T20:19:51.321875Z",
     "shell.execute_reply.started": "2022-03-03T20:19:51.316997Z"
    }
   },
   "outputs": [],
   "source": [
    "print(\"Training Images:\",train_datagen.samples)\n",
    "print(\"Validation Images:\",validation_datagen.samples)"
   ]
  },
  {
   "cell_type": "code",
   "execution_count": 28,
   "metadata": {
    "execution": {
     "iopub.execute_input": "2022-03-03T20:20:11.103233Z",
     "iopub.status.busy": "2022-03-03T20:20:11.102983Z",
     "iopub.status.idle": "2022-03-03T20:20:14.602984Z",
     "shell.execute_reply": "2022-03-03T20:20:14.602240Z",
     "shell.execute_reply.started": "2022-03-03T20:20:11.103204Z"
    }
   },
   "outputs": [],
   "source": [
    "from tensorflow.keras.applications import DenseNet169\n",
    "densenet = DenseNet169(\n",
    "    include_top=False,\n",
    "    weights=\"imagenet\",\n",
    "    input_shape=(224,224,3)\n",
    ")"
   ]
  },
  {
   "cell_type": "code",
   "execution_count": 29,
   "metadata": {
    "execution": {
     "iopub.execute_input": "2022-03-03T20:20:17.915771Z",
     "iopub.status.busy": "2022-03-03T20:20:17.915243Z",
     "iopub.status.idle": "2022-03-03T20:20:17.951987Z",
     "shell.execute_reply": "2022-03-03T20:20:17.951348Z",
     "shell.execute_reply.started": "2022-03-03T20:20:17.915735Z"
    }
   },
   "outputs": [],
   "source": [
    "for layers in densenet.layers:\n",
    "    layers.trainable = False\n",
    "base_output = GlobalAveragePooling2D()(densenet.output)\n",
    "final_output = Dense(15, activation = \"softmax\")(base_output)\n",
    "final_output"
   ]
  },
  {
   "cell_type": "code",
   "execution_count": 30,
   "metadata": {
    "execution": {
     "iopub.execute_input": "2022-03-03T20:20:22.917246Z",
     "iopub.status.busy": "2022-03-03T20:20:22.916962Z",
     "iopub.status.idle": "2022-03-03T20:20:37.390757Z",
     "shell.execute_reply": "2022-03-03T20:20:37.389996Z",
     "shell.execute_reply.started": "2022-03-03T20:20:22.917215Z"
    }
   },
   "outputs": [],
   "source": [
    "my_densenet_model = Model(inputs = densenet.input, outputs = final_output)"
   ]
  },
  {
   "cell_type": "code",
   "execution_count": 32,
   "metadata": {
    "execution": {
     "iopub.execute_input": "2022-03-03T20:20:46.249158Z",
     "iopub.status.busy": "2022-03-03T20:20:46.248558Z",
     "iopub.status.idle": "2022-03-03T20:20:46.253626Z",
     "shell.execute_reply": "2022-03-03T20:20:46.252526Z",
     "shell.execute_reply.started": "2022-03-03T20:20:46.249117Z"
    }
   },
   "outputs": [],
   "source": [
    "early_stopping = EarlyStopping(monitor = \"val_loss\", patience=5)\n",
    "model_save = ModelCheckpoint(\"densenet169_model.h5\", save_best_only=True, verbose=1)"
   ]
  },
  {
   "cell_type": "code",
   "execution_count": 33,
   "metadata": {
    "execution": {
     "iopub.execute_input": "2022-03-03T20:20:48.306466Z",
     "iopub.status.busy": "2022-03-03T20:20:48.306200Z",
     "iopub.status.idle": "2022-03-03T20:45:22.317195Z",
     "shell.execute_reply": "2022-03-03T20:45:22.316112Z",
     "shell.execute_reply.started": "2022-03-03T20:20:48.306419Z"
    }
   },
   "outputs": [],
   "source": [
    "my_densenet_model.compile(optimizer=\"Adam\", loss=\"categorical_crossentropy\", metrics=[\"accuracy\"])\n",
    "history_densenet169 = my_densenet_model.fit(train_datagen, validation_data=validation_datagen, epochs=50, \n",
    "             steps_per_epoch = train_datagen.samples//32,\n",
    "             callbacks=[early_stopping, model_save])"
   ]
  },
  {
   "cell_type": "code",
   "execution_count": 45,
   "metadata": {
    "execution": {
     "iopub.execute_input": "2022-03-03T21:01:23.002009Z",
     "iopub.status.busy": "2022-03-03T21:01:23.001439Z",
     "iopub.status.idle": "2022-03-03T21:01:23.215501Z",
     "shell.execute_reply": "2022-03-03T21:01:23.214529Z",
     "shell.execute_reply.started": "2022-03-03T21:01:23.001969Z"
    }
   },
   "outputs": [],
   "source": [
    "test_data_gen = DataGen.flow_from_directory(\n",
    "    test_datapath,\n",
    "    batch_size = 32,\n",
    "    class_mode = \"categorical\"\n",
    ")"
   ]
  },
  {
   "cell_type": "code",
   "execution_count": 46,
   "metadata": {
    "execution": {
     "iopub.execute_input": "2022-03-03T21:01:23.446000Z",
     "iopub.status.busy": "2022-03-03T21:01:23.445576Z",
     "iopub.status.idle": "2022-03-03T21:01:54.205967Z",
     "shell.execute_reply": "2022-03-03T21:01:54.205128Z",
     "shell.execute_reply.started": "2022-03-03T21:01:23.445958Z"
    }
   },
   "outputs": [],
   "source": [
    "my_densenet_model.evaluate(test_data_gen)"
   ]
  },
  {
   "cell_type": "code",
   "execution_count": 50,
   "metadata": {
    "execution": {
     "iopub.execute_input": "2022-03-03T21:04:42.460149Z",
     "iopub.status.busy": "2022-03-03T21:04:42.459292Z",
     "iopub.status.idle": "2022-03-03T21:04:42.466560Z",
     "shell.execute_reply": "2022-03-03T21:04:42.465625Z",
     "shell.execute_reply.started": "2022-03-03T21:04:42.460105Z"
    }
   },
   "outputs": [],
   "source": [
    "with open('./trainHistoryDensenet169', 'wb') as file_pi:\n",
    "    pickle.dump(history_densenet169.history, file_pi)"
   ]
  },
  {
   "cell_type": "code",
   "execution_count": 48,
   "metadata": {
    "execution": {
     "iopub.execute_input": "2022-03-03T21:02:05.815143Z",
     "iopub.status.busy": "2022-03-03T21:02:05.814608Z",
     "iopub.status.idle": "2022-03-03T21:02:05.825815Z",
     "shell.execute_reply": "2022-03-03T21:02:05.824922Z",
     "shell.execute_reply.started": "2022-03-03T21:02:05.815105Z"
    }
   },
   "outputs": [],
   "source": [
    "image_path = \"../input/vegetable-image-dataset/Vegetable Images/train/Broccoli/0003.jpg\"\n",
    "test_image_path = (img_to_array(load_img(image_path, target_size = (224,224)))/255.).reshape(1,224,224,3)"
   ]
  },
  {
   "cell_type": "code",
   "execution_count": 49,
   "metadata": {
    "execution": {
     "iopub.execute_input": "2022-03-03T21:02:08.731416Z",
     "iopub.status.busy": "2022-03-03T21:02:08.730543Z",
     "iopub.status.idle": "2022-03-03T21:02:08.962730Z",
     "shell.execute_reply": "2022-03-03T21:02:08.962026Z",
     "shell.execute_reply.started": "2022-03-03T21:02:08.731373Z"
    }
   },
   "outputs": [],
   "source": [
    "results = np.argmax((my_densenet_model(test_image_path)).numpy(), axis = -1)\n",
    "labels[int(results)]"
   ]
  },
  {
   "cell_type": "code",
   "execution_count": null,
   "metadata": {
    "execution": {
     "iopub.execute_input": "2022-03-03T18:54:31.812055Z",
     "iopub.status.busy": "2022-03-03T18:54:31.81162Z",
     "iopub.status.idle": "2022-03-03T18:54:31.827092Z",
     "shell.execute_reply": "2022-03-03T18:54:31.824711Z",
     "shell.execute_reply.started": "2022-03-03T18:54:31.812017Z"
    }
   },
   "outputs": [],
   "source": []
  },
  {
   "cell_type": "code",
   "execution_count": null,
   "metadata": {},
   "outputs": [],
   "source": []
  }
 ],
 "metadata": {
  "kernelspec": {
   "display_name": "Python 3",
   "language": "python",
   "name": "python3"
  },
  "language_info": {
   "codemirror_mode": {
    "name": "ipython",
    "version": 3
   },
   "file_extension": ".py",
   "mimetype": "text/x-python",
   "name": "python",
   "nbconvert_exporter": "python",
   "pygments_lexer": "ipython3",
   "version": "3.8.3"
  }
 },
 "nbformat": 4,
 "nbformat_minor": 4
}
